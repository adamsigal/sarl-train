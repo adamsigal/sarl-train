{
 "cells": [
  {
   "cell_type": "code",
   "execution_count": 1,
   "metadata": {},
   "outputs": [],
   "source": [
    "%load_ext autoreload\n",
    "%autoreload 2"
   ]
  },
  {
   "cell_type": "code",
   "execution_count": 2,
   "metadata": {},
   "outputs": [],
   "source": [
    "#import .crowd_nav/\n",
    "import numpy as np\n",
    "#import socialforce\n",
    "import torch\n",
    "import random"
   ]
  },
  {
   "cell_type": "code",
   "execution_count": 3,
   "metadata": {},
   "outputs": [],
   "source": [
    "from crowd_sim.envs.policy.socialforce import *"
   ]
  },
  {
   "cell_type": "code",
   "execution_count": 7,
   "metadata": {},
   "outputs": [],
   "source": [
    "np.set_printoptions(precision=2)"
   ]
  },
  {
   "cell_type": "code",
   "execution_count": 3,
   "metadata": {},
   "outputs": [
    {
     "data": {
      "text/plain": [
       "False"
      ]
     },
     "execution_count": 3,
     "metadata": {},
     "output_type": "execute_result"
    }
   ],
   "source": [
    "static_human_num = {0: 0.05, 1: 0.2, 2: 0.2, 3: 0.3, 4: 0.1, 5: 0.15}\n",
    "dynamic_human_num = {1: 0.3, 2: 0.3, 3: 0.2, 4: 0.1, 5: 0.1}\n",
    "static = True if np.random.random() < 0.2 else False\n",
    "static"
   ]
  },
  {
   "cell_type": "code",
   "execution_count": 3,
   "metadata": {},
   "outputs": [
    {
     "data": {
      "text/plain": [
       "0.6923801732524272"
      ]
     },
     "execution_count": 3,
     "metadata": {},
     "output_type": "execute_result"
    }
   ],
   "source": [
    "prob = np.random.random()\n",
    "prob"
   ]
  },
  {
   "cell_type": "code",
   "execution_count": null,
   "metadata": {},
   "outputs": [],
   "source": [
    "dynamic_human_num.items()"
   ]
  },
  {
   "cell_type": "code",
   "execution_count": 9,
   "metadata": {},
   "outputs": [
    {
     "data": {
      "text/plain": [
       "dict_items([(0, 0.05), (1, 0.2), (2, 0.2), (3, 0.3), (4, 0.1), (5, 0.15)])"
      ]
     },
     "execution_count": 9,
     "metadata": {},
     "output_type": "execute_result"
    }
   ],
   "source": [
    "static_human_num.items()"
   ]
  },
  {
   "cell_type": "code",
   "execution_count": 12,
   "metadata": {},
   "outputs": [
    {
     "data": {
      "text/plain": [
       "dict_items([(1, 0.3), (2, 0.3), (3, 0.2), (4, 0.1), (5, 0.1)])"
      ]
     },
     "execution_count": 12,
     "metadata": {},
     "output_type": "execute_result"
    }
   ],
   "source": [
    "static_human_num.items() if static else dynamic_human_num.items()"
   ]
  },
  {
   "cell_type": "code",
   "execution_count": 13,
   "metadata": {},
   "outputs": [
    {
     "name": "stdout",
     "output_type": "stream",
     "text": [
      "prob: 0.004089819458059085\n",
      "value: 0.3\n",
      "prob - value: -0.2959101805419409\n"
     ]
    },
    {
     "ename": "NameError",
     "evalue": "name 'self' is not defined",
     "output_type": "error",
     "traceback": [
      "\u001b[0;31m---------------------------------------------------------------------------\u001b[0m",
      "\u001b[0;31mNameError\u001b[0m                                 Traceback (most recent call last)",
      "\u001b[0;32m<ipython-input-13-969f28697656>\u001b[0m in \u001b[0;36m<module>\u001b[0;34m\u001b[0m\n\u001b[1;32m      8\u001b[0m     \u001b[0;32melse\u001b[0m\u001b[0;34m:\u001b[0m\u001b[0;34m\u001b[0m\u001b[0;34m\u001b[0m\u001b[0m\n\u001b[1;32m      9\u001b[0m         \u001b[0mprob\u001b[0m \u001b[0;34m-=\u001b[0m \u001b[0mvalue\u001b[0m\u001b[0;34m\u001b[0m\u001b[0;34m\u001b[0m\u001b[0m\n\u001b[0;32m---> 10\u001b[0;31m \u001b[0mself\u001b[0m\u001b[0;34m.\u001b[0m\u001b[0mhuman_num\u001b[0m \u001b[0;34m=\u001b[0m \u001b[0mhuman_num\u001b[0m\u001b[0;34m\u001b[0m\u001b[0;34m\u001b[0m\u001b[0m\n\u001b[0m",
      "\u001b[0;31mNameError\u001b[0m: name 'self' is not defined"
     ]
    }
   ],
   "source": [
    "for key, value in sorted(static_human_num.items() if static else dynamic_human_num.items()):\n",
    "    print(\"prob:\", prob)\n",
    "    print(\"value:\", value)\n",
    "    print(\"prob - value:\", prob - value)\n",
    "    if prob - value <= 0:\n",
    "        human_num = key\n",
    "        break\n",
    "    else:\n",
    "        prob -= value\n",
    "human_num"
   ]
  },
  {
   "cell_type": "code",
   "execution_count": 17,
   "metadata": {},
   "outputs": [
    {
     "data": {
      "text/plain": [
       "array([4.834088  , 4.08984426])"
      ]
     },
     "execution_count": 17,
     "metadata": {},
     "output_type": "execute_result"
    }
   ],
   "source": [
    "np.random.normal(1.34, 0.26, size=(2))"
   ]
  },
  {
   "cell_type": "code",
   "execution_count": 18,
   "metadata": {},
   "outputs": [
    {
     "data": {
      "text/plain": [
       "4294965295"
      ]
     },
     "execution_count": 18,
     "metadata": {},
     "output_type": "execute_result"
    }
   ],
   "source": [
    "np.iinfo(np.uint32).max - 2000"
   ]
  },
  {
   "cell_type": "code",
   "execution_count": 20,
   "metadata": {},
   "outputs": [
    {
     "data": {
      "text/plain": [
       "True"
      ]
     },
     "execution_count": 20,
     "metadata": {},
     "output_type": "execute_result"
    }
   ],
   "source": [
    "'orca' in ('orca', 'sf', 'multi')"
   ]
  },
  {
   "cell_type": "code",
   "execution_count": 28,
   "metadata": {},
   "outputs": [
    {
     "data": {
      "text/plain": [
       "'sf'"
      ]
     },
     "execution_count": 28,
     "metadata": {},
     "output_type": "execute_result"
    }
   ],
   "source": [
    "from crowd_sim.envs.utils.utils import get_random_policy\n",
    "\n",
    "get_random_policy()"
   ]
  },
  {
   "cell_type": "code",
   "execution_count": 33,
   "metadata": {},
   "outputs": [
    {
     "name": "stdout",
     "output_type": "stream",
     "text": [
      "heyo\n"
     ]
    }
   ],
   "source": [
    "a = [1]\n",
    "\n",
    "if a:\n",
    "    print(\"heyo\")"
   ]
  },
  {
   "cell_type": "code",
   "execution_count": 87,
   "metadata": {},
   "outputs": [],
   "source": [
    "#(  x,   y, v_x, v_y, [a_x, a_y], [d_x, d_y], [tau])\n",
    "init_state = np.array([\n",
    "   #(  px,   py,  vx,   vy,   gx,   gy, [tau])\n",
    "    [ 1.0,  6.0, 0.4,  1.0,  3.0, 10.0, 0.5],\n",
    "    [ 3.0,  2.0, 0.9, -1.0, -0.3, -5.0, 0.5],\n",
    "    [ 4.0,  6.0, 1.2, -1.0,  0.0,  0.0, 0.5],\n",
    "])\n",
    "\n",
    "#generator = Simulator(initial_state)#, tau=np.array([0.5, 0.3]))# 1) # (initial_state)\n",
    "\n",
    "#generator\n",
    "\n",
    "\n",
    "# v0 = torch.tensor(1.2, requires_grad=True)\n",
    "# sigma_v = torch.tensor(0.1, requires_grad=True)\n",
    "# V = socialforce.PedPedPotential(0.4, v0, sigma_v)\n",
    "\n",
    "# print('loop')\n",
    "# s = socialforce.Simulator(initial_state, None, V)"
   ]
  },
  {
   "cell_type": "code",
   "execution_count": 97,
   "metadata": {},
   "outputs": [
    {
     "name": "stdout",
     "output_type": "stream",
     "text": [
      "r: (3, 2) \n",
      " [[1. 6.]\n",
      " [3. 2.]\n",
      " [4. 6.]] \n",
      "\n",
      "\n",
      "r_a: (3, 1, 2) \n",
      " [[[1. 6.]]\n",
      "\n",
      " [[3. 2.]]\n",
      "\n",
      " [[4. 6.]]] \n",
      "\n",
      "\n",
      "r_b: (1, 3, 2) \n",
      " [[[1. 6.]\n",
      "  [3. 2.]\n",
      "  [4. 6.]]] \n",
      "\n",
      "\n",
      "r_a - r_b: (3, 3, 2) \n",
      " [[[ 0.  0.]\n",
      "  [-2.  4.]\n",
      "  [-3.  0.]]\n",
      "\n",
      " [[ 2. -4.]\n",
      "  [ 0.  0.]\n",
      "  [-1. -4.]]\n",
      "\n",
      " [[ 3.  0.]\n",
      "  [ 1.  4.]\n",
      "  [ 0.  0.]]] \n",
      "\n",
      "\n",
      "r_ab_new: (3, 3, 2) \n",
      " [[[ 0.    0.  ]\n",
      "  [-1.55  3.11]\n",
      "  [-2.    0.  ]]\n",
      "\n",
      " [[ 1.55 -3.11]\n",
      "  [ 0.    0.  ]\n",
      "  [-0.76 -3.03]]\n",
      "\n",
      " [[ 2.    0.  ]\n",
      "  [ 0.76  3.03]\n",
      "  [ 0.    0.  ]]] \n",
      "\n"
     ]
    }
   ],
   "source": [
    "r = init_state[:, 0:2]\n",
    "print(\"r:\", r.shape, \"\\n\", r, \"\\n\")\n",
    "\n",
    "r_a = np.expand_dims(r, 1)\n",
    "print(\"\\nr_a:\", r_a.shape, \"\\n\", r_a, \"\\n\")\n",
    "\n",
    "r_b = np.expand_dims(r, 0)\n",
    "print(\"\\nr_b:\", r_b.shape, \"\\n\", r_b, \"\\n\")\n",
    "\n",
    "r_ab = r_a - r_b\n",
    "print(\"\\nr_a - r_b:\", r_ab.shape, \"\\n\", r_ab, \"\\n\")\n",
    "\n",
    "r_ab_norm = np.linalg.norm(r_ab, axis=2)\n",
    "#print(\"\\nr_ab_norm:\", r_ab_norm.shape, \"\\n\", r_ab_norm, \"\\n\")\n",
    "\n",
    "\n",
    "r_ab_norm_rep = np.repeat(r_ab_norm[:, :, np.newaxis], 2, axis=2)\n",
    "#print(\"\\nr_ab_norm_rep:\", r_ab_norm_rep.shape, \"\\n\", r_ab_norm_rep, \"\\n\")\n",
    "\n",
    "#r_ab_unit = r_ab / r_ab_norm\n",
    "r_ab_unit = np.divide(r_ab, r_ab_norm_rep, out=np.zeros_like(r_ab), where=r_ab_norm_rep!=0)\n",
    "#print(\"\\nr_ab_unit:\", r_ab_unit.shape, \"\\n\", r_ab_unit, \"\\n\")\n",
    "\n",
    "\n",
    "dist_minus_radius = r_ab_norm_rep - 1\n",
    "#print(\"\\ndist_minus_radius:\", dist_minus_radius.shape, \"\\n\", dist_minus_radius, \"\\n\")\n",
    "\n",
    "new_norm = np.where(dist_minus_radius < 0, 0, dist_minus_radius)\n",
    "#print(\"\\nnew_norm:\", new_norm.shape, \"\\n\", new_norm, \"\\n\")\n",
    "\n",
    "\n",
    "r_ab_new = r_ab_unit * new_norm\n",
    "print(\"\\nr_ab_new:\", r_ab_new.shape, \"\\n\", r_ab_new, \"\\n\")"
   ]
  },
  {
   "cell_type": "code",
   "execution_count": 100,
   "metadata": {},
   "outputs": [
    {
     "name": "stdout",
     "output_type": "stream",
     "text": [
      "4.47213595499958\n"
     ]
    },
    {
     "data": {
      "text/plain": [
       "array([-1.55,  3.11])"
      ]
     },
     "execution_count": 100,
     "metadata": {},
     "output_type": "execute_result"
    }
   ],
   "source": [
    "a = np.array([-2,4])\n",
    "print(np.linalg.norm(a))\n",
    "a_unit = a / np.linalg.norm(a)\n",
    "norm_min_1 = np.linalg.norm(a) - 1\n",
    "a_unit * norm_min_1\n",
    "\n",
    "#np.linalg.norm([-1.55,  3.11])"
   ]
  },
  {
   "cell_type": "code",
   "execution_count": 47,
   "metadata": {},
   "outputs": [
    {
     "data": {
      "text/plain": [
       "array([[0. , 0. , 0. , 0. , 0. , 0. , 0.5],\n",
       "       [0. , 0. , 0. , 0. , 0. , 0. , 0.5],\n",
       "       [0. , 0. , 0. , 0. , 0. , 0. , 0.5]])"
      ]
     },
     "execution_count": 47,
     "metadata": {},
     "output_type": "execute_result"
    }
   ],
   "source": [
    "init_state[:,:6] = np.zeros((3,6))\n",
    "init_state"
   ]
  },
  {
   "cell_type": "code",
   "execution_count": 53,
   "metadata": {},
   "outputs": [
    {
     "data": {
      "text/plain": [
       "array([ True,  True])"
      ]
     },
     "execution_count": 53,
     "metadata": {},
     "output_type": "execute_result"
    }
   ],
   "source": [
    "(3,6) == init_state.shape - np.array((0,1))"
   ]
  },
  {
   "cell_type": "code",
   "execution_count": 42,
   "metadata": {},
   "outputs": [
    {
     "name": "stdout",
     "output_type": "stream",
     "text": [
      "[False False False]\n",
      "(array([], dtype=int64),)\n"
     ]
    },
    {
     "data": {
      "text/plain": [
       "array([[ 0. ,  0. ,  0.4,  1. ,  3. , 10. ,  0.5],\n",
       "       [-0.3, -4.8,  0.9, -1. , -0.3, -5. ,  0.5],\n",
       "       [ 7. , -5. ,  1.2, -1. ,  0. ,  0. ,  0.5]], dtype=float32)"
      ]
     },
     "execution_count": 42,
     "metadata": {},
     "output_type": "execute_result"
    }
   ],
   "source": [
    "statecpy = np.copy(init_state)\n",
    "\n",
    "print(np.linalg.norm((init_state[:,0:2] - init_state[:,4:6]), axis=1) <= 0.1)\n",
    "print(np.nonzero(np.linalg.norm(init_state[:,0:2] - init_state[:,4:6], axis=1) <= 0.1 ))\n",
    "\n",
    "statecpy[np.nonzero(np.linalg.norm(init_state[:,0:2] - init_state[:,4:6], axis=1) <= 0.1 ), 2:4] = 0\n",
    "statecpy"
   ]
  },
  {
   "cell_type": "code",
   "execution_count": 18,
   "metadata": {},
   "outputs": [
    {
     "data": {
      "text/plain": [
       "10.44030650891055"
      ]
     },
     "execution_count": 18,
     "metadata": {},
     "output_type": "execute_result"
    }
   ],
   "source": [
    "np.sqrt(109)"
   ]
  },
  {
   "cell_type": "code",
   "execution_count": 9,
   "metadata": {},
   "outputs": [
    {
     "data": {
      "text/plain": [
       "array([1.3, 1.3], dtype=float32)"
      ]
     },
     "execution_count": 9,
     "metadata": {},
     "output_type": "execute_result"
    }
   ],
   "source": [
    "generator.max_speeds"
   ]
  },
  {
   "cell_type": "code",
   "execution_count": 10,
   "metadata": {
    "scrolled": true
   },
   "outputs": [
    {
     "ename": "SyntaxError",
     "evalue": "can't use starred expression here (<ipython-input-10-526db5137f0b>, line 4)",
     "output_type": "error",
     "traceback": [
      "\u001b[0;36m  File \u001b[0;32m\"<ipython-input-10-526db5137f0b>\"\u001b[0;36m, line \u001b[0;32m4\u001b[0m\n\u001b[0;31mSyntaxError\u001b[0m\u001b[0;31m:\u001b[0m can't use starred expression here\n"
     ]
    }
   ],
   "source": [
    "*initial_state"
   ]
  },
  {
   "cell_type": "code",
   "execution_count": 14,
   "metadata": {},
   "outputs": [
    {
     "data": {
      "text/plain": [
       "array([0.77689711, 0.59666118, 0.70730649])"
      ]
     },
     "execution_count": 14,
     "metadata": {},
     "output_type": "execute_result"
    }
   ],
   "source": [
    "np.random.rand(3)"
   ]
  },
  {
   "cell_type": "code",
   "execution_count": 1,
   "metadata": {},
   "outputs": [
    {
     "data": {
      "text/plain": [
       "'3.6.15 (default, Jan 15 2022, 19:47:13) \\n[GCC 9.3.0]'"
      ]
     },
     "execution_count": 1,
     "metadata": {},
     "output_type": "execute_result"
    }
   ],
   "source": [
    "import sys\n",
    "sys.version"
   ]
  }
 ],
 "metadata": {
  "kernelspec": {
   "display_name": "Python 3",
   "language": "python",
   "name": "python3"
  },
  "language_info": {
   "codemirror_mode": {
    "name": "ipython",
    "version": 3
   },
   "file_extension": ".py",
   "mimetype": "text/x-python",
   "name": "python",
   "nbconvert_exporter": "python",
   "pygments_lexer": "ipython3",
   "version": "3.6.15"
  }
 },
 "nbformat": 4,
 "nbformat_minor": 4
}
